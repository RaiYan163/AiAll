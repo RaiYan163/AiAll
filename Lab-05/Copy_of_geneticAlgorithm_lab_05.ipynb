{
  "nbformat": 4,
  "nbformat_minor": 0,
  "metadata": {
    "colab": {
      "provenance": []
    },
    "kernelspec": {
      "name": "python3",
      "display_name": "Python 3"
    },
    "language_info": {
      "name": "python"
    }
  },
  "cells": [
    {
      "cell_type": "code",
      "execution_count": null,
      "metadata": {
        "id": "cGqzd29vlm6V"
      },
      "outputs": [],
      "source": []
    },
    {
      "cell_type": "markdown",
      "source": [
        "Last Lab -- believes in parallilism, starts from different point of population, increased probability of global maxima or minima.\n",
        "Survival of fittest.\n",
        "---- Collect slide -----\n",
        "Working principle of genetic algorithm. (slide page 3 )\n",
        "Heuristic, there exist a fitness function.\n",
        "TSP --- travelling salesman problem diye solution kora. (benchmark problem)\n",
        "there are many ways in case of selection --- Ranking based, roullete wheeled.\n",
        "--- Mutation is performed to augment diversity among elements. ----\n",
        "--- Selection process is up to the programmer -----\n",
        "expected count and actual count.\n",
        "---- Single point crossover --- (a and b er ekta point dhore, kora ) ----\n"
      ],
      "metadata": {
        "id": "QRmF-qiolswO"
      }
    },
    {
      "cell_type": "markdown",
      "source": [
        "Can be applied in large ammount of problem. For example, in case of VANET, congestion control er case e bird flock er observation theke then use kora hoy."
      ],
      "metadata": {
        "id": "KN-Pvfj5ojWX"
      }
    },
    {
      "cell_type": "markdown",
      "source": [
        "Genetic algo can be used in case of game playing. Population can be initialized as a game stratgey. Randomized string generate kore nilam, that is initialization. Then 6 game playing technique have to be developed. We have to play first in this case. And they will find out which game will be good. good individual ke solution, crossover and others, again and again.\n",
        "\n",
        "alpha beta pruning korle solution space hole, game crash korbe, in some case, genetic algorithm is a good solution. After a few generation, all materials are good.\n",
        "\n",
        "Genetic algorithm never promises best solution, it's an approximation. Solution space onk boro hole ei case e genetic algorithm use kora jete pare. Parameter er initial value set kora thakle, intial approximation use hole pore use kora jete pare.\n",
        "\n",
        "1. Selection.\n",
        "2. Cross Over.\n",
        "3. Mutation.\n",
        "\n",
        "--- Todays work: take 4 chromosome and make 1   population. (basically a 0 1 string)\n",
        "--- Select korte hobe. Equation optimize korte hobe.\n",
        "--- chromosome pathay fitness calculate kortesi.\n",
        "--- then selection kora.\n",
        "--- 4 ta theke 2 ta select korbo, different type of crossover, uniform, single point.\n",
        "--- Then mutation ( 1 / 5) prob wise mutation hobe.\n",
        "--- different value --, threshold use kora holo."
      ],
      "metadata": {
        "id": "f7dTvJv3pCLA"
      }
    },
    {
      "cell_type": "code",
      "source": [
        "import random\n",
        "import math\n",
        "\n",
        "pop_size = 4\n",
        "chrom_length = 13\n",
        "mutation_rate = 0.1\n",
        "Generations = 10"
      ],
      "metadata": {
        "id": "x9ZYeBx_o_e2"
      },
      "execution_count": null,
      "outputs": []
    },
    {
      "cell_type": "code",
      "source": [
        "def generate_population():\n",
        "    population = []\n",
        "    for x in range(pop_size):\n",
        "        chromosome = ''.join([str(random.randint(0, 1)) for x in range(chrom_length)])\n",
        "        population.append(chromosome)\n",
        "    return population"
      ],
      "metadata": {
        "id": "usvBk9JVxkyA"
      },
      "execution_count": null,
      "outputs": []
    },
    {
      "cell_type": "code",
      "source": [
        "def calculate_fitness(chromosome):\n",
        "\n",
        "    fitness = 0\n",
        "    size = len(chromosome)\n",
        "    for gene in chromosome:\n",
        "        fitness += int(gene)\n",
        "    return round((fitness/size), 2)"
      ],
      "metadata": {
        "id": "obG230vJx_gA"
      },
      "execution_count": null,
      "outputs": []
    },
    {
      "cell_type": "code",
      "source": [
        "def selection(population):\n",
        "    return random.sample(population, 2)"
      ],
      "metadata": {
        "id": "8H4kP-M1yH2A"
      },
      "execution_count": null,
      "outputs": []
    },
    {
      "cell_type": "code",
      "source": [
        "def crossover(parent1, parent2):\n",
        "    crossover_point = random.randint(1, chrom_length - 1)\n",
        "    child1 = parent1[:crossover_point] + parent2[crossover_point:]\n",
        "    child2 = parent2[:crossover_point] + parent1[crossover_point:]\n",
        "    return child1, child2"
      ],
      "metadata": {
        "id": "YLqNNbloyLh4"
      },
      "execution_count": null,
      "outputs": []
    },
    {
      "cell_type": "code",
      "source": [
        "def mutation(chromosome):\n",
        "    mutated_chromosome = ''\n",
        "    for gene in chromosome:\n",
        "        if random.random() < mutation_rate:\n",
        "            mutated_chromosome += '1' if gene == '0' else '0'\n",
        "        else:\n",
        "            mutated_chromosome += gene\n",
        "    return mutated_chromosome\n"
      ],
      "metadata": {
        "id": "cBohf1EGyVkh"
      },
      "execution_count": null,
      "outputs": []
    },
    {
      "cell_type": "code",
      "source": [
        "x = generate_population()\n",
        "a = x[2]\n",
        "print(a)\n",
        "print(calculate_fitness(a))\n"
      ],
      "metadata": {
        "colab": {
          "base_uri": "https://localhost:8080/"
        },
        "id": "jBBJdMX90GvB",
        "outputId": "a2ef09a7-056c-474b-ae0c-a2a7ca805eae"
      },
      "execution_count": null,
      "outputs": [
        {
          "output_type": "stream",
          "name": "stdout",
          "text": [
            "0111010001111\n",
            "0.62\n"
          ]
        }
      ]
    },
    {
      "cell_type": "code",
      "source": [
        "population = generate_population()\n",
        "pop_fitness = []\n",
        "for i in population:\n",
        "  pop_fitness.append(calculate_fitness(i))\n",
        "\n",
        "print(pop_fitness)"
      ],
      "metadata": {
        "id": "p7PlFIMA4xYe",
        "colab": {
          "base_uri": "https://localhost:8080/"
        },
        "outputId": "9bc1e94a-b687-4500-e473-f2ca4c2a2082"
      },
      "execution_count": null,
      "outputs": [
        {
          "output_type": "stream",
          "name": "stdout",
          "text": [
            "[0.46, 0.38, 0.54, 0.38]\n"
          ]
        }
      ]
    },
    {
      "cell_type": "markdown",
      "source": [],
      "metadata": {
        "id": "esAcZEEL5EDJ"
      }
    },
    {
      "cell_type": "code",
      "source": [
        "t = 10\n",
        "\n",
        "while(t):\n",
        "  selected_population = selection(population)\n",
        "  updated_population = crossover(selected_population[0], selected_population[1])\n",
        "  x = random.randint(0, 3)\n",
        "  y = random.randint(0, 3)\n",
        "\n",
        "  population[x] = updated_population[0]\n",
        "  population[y] = updated_population[1]\n",
        "  updated_fitness = []\n",
        "  for i in population:\n",
        "    updated_fitness.append(calculate_fitness(i))\n",
        "\n",
        "  print(len(pop_fitness))\n",
        "  print(len(updated_fitness))\n",
        "\n",
        "\n",
        "  error = 0\n",
        "  for i in range(3):\n",
        "    error = ((pop_fitness[i]) - (updated_fitness[i]))**2\n",
        "\n",
        "  error = math.sqrt((error/4))\n",
        "  t = t - 1\n",
        "  print(t)\n",
        "  print(error)\n",
        "\n",
        "\n",
        "\n"
      ],
      "metadata": {
        "colab": {
          "base_uri": "https://localhost:8080/"
        },
        "id": "phGiTuSm03aZ",
        "outputId": "c87ca91b-c658-4f8e-de79-6cfc52c420d8"
      },
      "execution_count": null,
      "outputs": [
        {
          "output_type": "stream",
          "name": "stdout",
          "text": [
            "4\n",
            "4\n",
            "9\n",
            "0.03999999999999998\n",
            "4\n",
            "4\n",
            "8\n",
            "0.03999999999999998\n",
            "4\n",
            "4\n",
            "7\n",
            "0.03999999999999998\n",
            "4\n",
            "4\n",
            "6\n",
            "0.03999999999999998\n",
            "4\n",
            "4\n",
            "5\n",
            "0.03999999999999998\n",
            "4\n",
            "4\n",
            "4\n",
            "0.03999999999999998\n",
            "4\n",
            "4\n",
            "3\n",
            "0.03999999999999998\n",
            "4\n",
            "4\n",
            "2\n",
            "0.03999999999999998\n",
            "4\n",
            "4\n",
            "1\n",
            "0.03999999999999998\n",
            "4\n",
            "4\n",
            "0\n",
            "0.03999999999999998\n"
          ]
        }
      ]
    },
    {
      "cell_type": "code",
      "source": [],
      "metadata": {
        "id": "AA6maIAm35Mh"
      },
      "execution_count": null,
      "outputs": []
    }
  ]
}